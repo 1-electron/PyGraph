{
 "cells": [
  {
   "cell_type": "code",
   "execution_count": 5,
   "metadata": {},
   "outputs": [],
   "source": [
    "from fetch import fetch\n",
    "import ast"
   ]
  },
  {
   "cell_type": "code",
   "execution_count": 6,
   "metadata": {},
   "outputs": [
    {
     "data": {
      "text/plain": [
       "[<_ast.Import at 0x10a6c0da0>,\n",
       " <_ast.FunctionDef at 0x10a6c0e48>,\n",
       " <_ast.FunctionDef at 0x10a6d6198>,\n",
       " <_ast.FunctionDef at 0x10a6d6320>,\n",
       " <_ast.FunctionDef at 0x10a6d6400>,\n",
       " <_ast.Assign at 0x10a6d64e0>]"
      ]
     },
     "execution_count": 6,
     "metadata": {},
     "output_type": "execute_result"
    }
   ],
   "source": [
    "# convert source code into ast, a tree representation\n",
    "with open('hello.py') as f: \n",
    "    source = f.read()\n",
    "\n",
    "tree = ast.parse(source)\n",
    "tree.body"
   ]
  },
  {
   "cell_type": "code",
   "execution_count": 3,
   "metadata": {
    "scrolled": true
   },
   "outputs": [
    {
     "name": "stdout",
     "output_type": "stream",
     "text": [
      "Import(names=[alias(name='ast', asname=None)]) \n",
      "\n",
      "FunctionDef(name='a', args=arguments(args=[], vararg=None, kwonlyargs=[], kw_defaults=[], kwarg=None, defaults=[]), body=[Assign(targets=[Name(id='x', ctx=Store())], value=Num(n=2)), Return(value=BinOp(left=BinOp(left=Call(func=Name(id='c', ctx=Load()), args=[], keywords=[]), op=Add(), right=Call(func=Name(id='b', ctx=Load()), args=[], keywords=[])), op=Add(), right=Name(id='x', ctx=Load())))], decorator_list=[], returns=None) \n",
      "\n",
      "FunctionDef(name='b', args=arguments(args=[], vararg=None, kwonlyargs=[], kw_defaults=[], kwarg=None, defaults=[]), body=[Return(value=BinOp(left=Num(n=2), op=Add(), right=Call(func=Name(id='c', ctx=Load()), args=[], keywords=[])))], decorator_list=[], returns=None) \n",
      "\n",
      "FunctionDef(name='c', args=arguments(args=[], vararg=None, kwonlyargs=[], kw_defaults=[], kwarg=None, defaults=[]), body=[Return(value=Num(n=3))], decorator_list=[], returns=None) \n",
      "\n",
      "FunctionDef(name='d', args=arguments(args=[], vararg=None, kwonlyargs=[], kw_defaults=[], kwarg=None, defaults=[]), body=[Return(value=Num(n=4))], decorator_list=[], returns=None) \n",
      "\n",
      "Assign(targets=[Name(id='y', ctx=Store())], value=Call(func=Name(id='a', ctx=Load()), args=[], keywords=[])) \n",
      "\n"
     ]
    }
   ],
   "source": [
    "# a flattened view of the ast - this is only for illustrative purposes and we wont use this\n",
    "for statement in tree.body:\n",
    "    print(ast.dump(statement), '\\n')"
   ]
  },
  {
   "cell_type": "markdown",
   "metadata": {},
   "source": [
    "# [example](https://suhas.org/function-call-ast-python/) - carve out call graph\n",
    "starting with the assign statement `y = a()` we will extract a call graph from source.\n",
    "\n",
    "we first find the ast node corresponding to `y`."
   ]
  },
  {
   "cell_type": "code",
   "execution_count": 4,
   "metadata": {},
   "outputs": [
    {
     "name": "stdout",
     "output_type": "stream",
     "text": [
      ">> copying code for y ... \n",
      "y = a()\n",
      "\n",
      ">> copying code for a ... \n",
      "def a():\n",
      "    x = 2\n",
      "    return c() + b() + x\n",
      "\n",
      ">> copying code for b ... \n",
      "def b():\n",
      "    return 2 + c()\n",
      "\n",
      ">> copying code for c ... \n",
      "def c():\n",
      "    return 3\n",
      "\n"
     ]
    }
   ],
   "source": [
    "# recursively find all callables, starting from y=a()\n",
    "fetch(\"y\", tree)"
   ]
  },
  {
   "cell_type": "code",
   "execution_count": null,
   "metadata": {},
   "outputs": [],
   "source": []
  }
 ],
 "metadata": {
  "kernelspec": {
   "display_name": "Python 3",
   "language": "python",
   "name": "python3"
  },
  "language_info": {
   "codemirror_mode": {
    "name": "ipython",
    "version": 3
   },
   "file_extension": ".py",
   "mimetype": "text/x-python",
   "name": "python",
   "nbconvert_exporter": "python",
   "pygments_lexer": "ipython3",
   "version": "3.7.3"
  }
 },
 "nbformat": 4,
 "nbformat_minor": 2
}
