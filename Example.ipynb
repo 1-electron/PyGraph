{
 "cells": [
  {
   "cell_type": "code",
   "execution_count": 1,
   "metadata": {},
   "outputs": [],
   "source": [
    "from fetch import fetch\n",
    "import ast"
   ]
  },
  {
   "cell_type": "code",
   "execution_count": 2,
   "metadata": {},
   "outputs": [
    {
     "data": {
      "text/plain": [
       "[<_ast.Import at 0x10f194c10>,\n",
       " <_ast.Import at 0x10f194c90>,\n",
       " <_ast.FunctionDef at 0x10f194d10>,\n",
       " <_ast.FunctionDef at 0x10f19e210>,\n",
       " <_ast.FunctionDef at 0x10f19e3d0>,\n",
       " <_ast.FunctionDef at 0x10f19e4d0>,\n",
       " <_ast.Assign at 0x10f19e5d0>]"
      ]
     },
     "execution_count": 2,
     "metadata": {},
     "output_type": "execute_result"
    }
   ],
   "source": [
    "# convert source code into ast, a tree representation\n",
    "with open('hello.py') as f: \n",
    "    source = f.read()\n",
    "\n",
    "tree = ast.parse(source)\n",
    "tree.body"
   ]
  },
  {
   "cell_type": "code",
   "execution_count": 3,
   "metadata": {
    "scrolled": true
   },
   "outputs": [
    {
     "name": "stdout",
     "output_type": "stream",
     "text": [
      "Import(names=[alias(name='ast', asname=None)]) \n",
      "\n",
      "Import(names=[alias(name='numpy', asname='np')]) \n",
      "\n",
      "FunctionDef(name='a', args=arguments(args=[], vararg=None, kwonlyargs=[], kw_defaults=[], kwarg=None, defaults=[]), body=[Assign(targets=[Name(id='z', ctx=Store())], value=Num(n=0)), Assign(targets=[Name(id='x', ctx=Store())], value=Call(func=Attribute(value=Attribute(value=Name(id='np', ctx=Load()), attr='random', ctx=Load()), attr='normal', ctx=Load()), args=[], keywords=[])), Return(value=BinOp(left=BinOp(left=Call(func=Name(id='c', ctx=Load()), args=[], keywords=[]), op=Add(), right=Call(func=Name(id='b', ctx=Load()), args=[], keywords=[])), op=Add(), right=Name(id='x', ctx=Load())))], decorator_list=[], returns=None) \n",
      "\n",
      "FunctionDef(name='b', args=arguments(args=[], vararg=None, kwonlyargs=[], kw_defaults=[], kwarg=None, defaults=[]), body=[Return(value=BinOp(left=Num(n=2), op=Add(), right=Call(func=Name(id='c', ctx=Load()), args=[], keywords=[])))], decorator_list=[], returns=None) \n",
      "\n",
      "FunctionDef(name='c', args=arguments(args=[], vararg=None, kwonlyargs=[], kw_defaults=[], kwarg=None, defaults=[]), body=[Return(value=Num(n=3))], decorator_list=[], returns=None) \n",
      "\n",
      "FunctionDef(name='d', args=arguments(args=[], vararg=None, kwonlyargs=[], kw_defaults=[], kwarg=None, defaults=[]), body=[Return(value=Num(n=4))], decorator_list=[], returns=None) \n",
      "\n",
      "Assign(targets=[Name(id='y', ctx=Store())], value=Call(func=Name(id='a', ctx=Load()), args=[], keywords=[])) \n",
      "\n"
     ]
    }
   ],
   "source": [
    "# a flattened view of the ast - this is only for illustrative purposes and we wont use this\n",
    "for statement in tree.body:\n",
    "    print(ast.dump(statement), '\\n')"
   ]
  },
  {
   "cell_type": "markdown",
   "metadata": {},
   "source": [
    "# [example](https://suhas.org/function-call-ast-python/) - carve out call graph\n",
    "starting with the assign statement `y = a()` we will extract a call graph from source.\n",
    "\n",
    "we first find the ast node corresponding to `y`."
   ]
  },
  {
   "cell_type": "code",
   "execution_count": 4,
   "metadata": {},
   "outputs": [],
   "source": [
    "import ast\n",
    "import astor  # https://stackoverflow.com/questions/36022935/rewriting-code-with-ast-python\n",
    "import io\n",
    "from contextlib import redirect_stdout\n",
    "\n",
    "\n",
    "def name2idx(target, tree):\n",
    "    \"\"\"return index corresponding to a node's name in an ast tree.\n",
    "\n",
    "    name2idx only looks for function definitions but we can modify it to look for ast.Import, \n",
    "    ast.Assign, etc.\n",
    "    \"\"\"\n",
    "    for idx, node in enumerate(tree.body):        \n",
    "        if isinstance(node, ast.FunctionDef) and (node.name == target):\n",
    "            return idx\n",
    "        elif isinstance(node, ast.Assign) and (node.targets[0].id == target):\n",
    "            return idx\n",
    "        else:\n",
    "            pass\n",
    "    return None\n",
    "\n",
    "\n",
    "def fetch(start_name, tree):\n",
    "    \"\"\"\n",
    "    start_name is a str, eg \"a\".\n",
    "    \n",
    "    tree is an ast tree object, usually constructed with `tree = ast.parse(source)`.\n",
    "    \n",
    "    # Python itself doesn’t provide a way to turn a compiled code object into an AST, or an AST into a string of code. https://greentreesnakes.readthedocs.io/en/latest/tofrom.html\n",
    "    \"\"\"\n",
    "    stack = [start_name]\n",
    "    seen = []\n",
    "    while len(stack) > 0:\n",
    "        name = stack.pop()        \n",
    "        seen.append(name)  # no double counting\n",
    "\n",
    "        # find index corresponding to name\n",
    "        idx = name2idx(name, tree)  \n",
    "\n",
    "        # now that we have the index, retrieve correspoding node from ast tree\n",
    "        curr = tree.body[idx]\n",
    "        \n",
    "        # print function name\n",
    "        if isinstance(curr, ast.FunctionDef):\n",
    "            print(curr.name)\n",
    "\n",
    "        # print its source code before moving on\n",
    "        # print(astor.to_source(curr))\n",
    "\n",
    "        # find all callables for current node\n",
    "        callable_name = find_callables(curr)  \n",
    "\n",
    "        # and add callable name to stack if we havent seen it yet\n",
    "        for name in callable_name:\n",
    "            print(\"adding\", name)\n",
    "            if (name not in seen) and (name not in stack):\n",
    "                stack.append(name)\n",
    "                \n",
    "\n",
    "def find_callables(curr):\n",
    "    \"\"\"for a given curr, return a list of its callables (by name, not ast node). \n",
    "    \"\"\"\n",
    "    f = io.StringIO()  # https://stackoverflow.com/questions/16571150/how-to-capture-stdout-output-from-a-python-function-call\n",
    "    with redirect_stdout(f):\n",
    "        FunctionCallVisitor().visit(curr)  # only prints node attributes, does not return ast nodes\n",
    "    out = f.getvalue()  # capture stdout and return it as a list\n",
    "    return out.split()\n",
    "\n",
    "\n",
    "class FunctionCallVisitor(ast.NodeVisitor):\n",
    "    \"\"\"print all children Call nodes, starting from curr.\n",
    "    \n",
    "    we will use this to find all callables (\"Call\" nodes in an ast). then, once we\n",
    "    are on a Call node, we print its information. a Call node could be defined by \n",
    "    FunctionDef but also ImportFrom.\n",
    "    \n",
    "    if we wanted to visit other types of nodes in the ast, we would replace visit_Call\n",
    "    with visit_Assign, visit_Import, etc...\n",
    "    \n",
    "    https://stackoverflow.com/questions/1515357/simple-example-of-how-to-use-ast-nodevisitor\n",
    "    \"\"\"\n",
    "    def visit_Call(self, node):\n",
    "        # print(ast.dump(node))\n",
    "        print(node)"
   ]
  },
  {
   "cell_type": "code",
   "execution_count": 5,
   "metadata": {},
   "outputs": [],
   "source": [
    "# recursively find all callables, starting from y=a()\n",
    "# fetch(\"y\", tree)"
   ]
  },
  {
   "cell_type": "code",
   "execution_count": 6,
   "metadata": {},
   "outputs": [
    {
     "name": "stdout",
     "output_type": "stream",
     "text": [
      "<_ast.Call object at 0x10f194ed0>\n",
      "<_ast.Call object at 0x10f19e0d0>\n",
      "<_ast.Call object at 0x10f19e150>\n"
     ]
    }
   ],
   "source": [
    "FunctionCallVisitor().visit(tree.body[2])"
   ]
  },
  {
   "cell_type": "code",
   "execution_count": 7,
   "metadata": {},
   "outputs": [
    {
     "data": {
      "text/plain": [
       "[<_ast.Import at 0x10f194c10>,\n",
       " <_ast.Import at 0x10f194c90>,\n",
       " <_ast.FunctionDef at 0x10f194d10>,\n",
       " <_ast.FunctionDef at 0x10f19e210>,\n",
       " <_ast.FunctionDef at 0x10f19e3d0>,\n",
       " <_ast.FunctionDef at 0x10f19e4d0>,\n",
       " <_ast.Assign at 0x10f19e5d0>]"
      ]
     },
     "execution_count": 7,
     "metadata": {},
     "output_type": "execute_result"
    }
   ],
   "source": [
    "tree.body"
   ]
  },
  {
   "cell_type": "code",
   "execution_count": 8,
   "metadata": {},
   "outputs": [
    {
     "data": {
      "text/plain": [
       "<_ast.alias at 0x10f194c50>"
      ]
     },
     "execution_count": 8,
     "metadata": {},
     "output_type": "execute_result"
    }
   ],
   "source": [
    "tree.body[0].names[0]"
   ]
  },
  {
   "cell_type": "code",
   "execution_count": 9,
   "metadata": {},
   "outputs": [
    {
     "data": {
      "text/plain": [
       "'ast'"
      ]
     },
     "execution_count": 9,
     "metadata": {},
     "output_type": "execute_result"
    }
   ],
   "source": [
    "tree.body[0].names[0].name"
   ]
  },
  {
   "cell_type": "code",
   "execution_count": 10,
   "metadata": {},
   "outputs": [],
   "source": [
    "# once i have the names, i could check the global environment\n",
    "\n",
    "def find_calls(n):\n",
    "\n",
    "    if isinstance(n, ast.Call):\n",
    "        print(\"ast.call\", n)\n",
    "        func = n.func  # all calls have a func, args, keyword\n",
    "        find_calls(func)\n",
    "        \n",
    "    elif isinstance(n, ast.alias):\n",
    "        print(\"ast.alias\", n.name, n.asname)  # alias or real name\n",
    "    \n",
    "    elif isinstance(n, ast.Import):\n",
    "        # all ast.imports have a list of names\n",
    "        print(\"ast.import\", n)\n",
    "        names = n.names\n",
    "        for name in names:\n",
    "            find_calls(name)\n",
    "    \n",
    "    elif isinstance(n, ast.FunctionDef):\n",
    "        # all functiondefs have bodies\n",
    "        bodies = n.body  # list of bodies\n",
    "        for body in bodies:\n",
    "            find_calls(body)\n",
    "    \n",
    "    elif isinstance(n, ast.Assign):\n",
    "        # ast.assigns have targets and values\n",
    "        print(\"ast.assign\", n)\n",
    "        value = n.value\n",
    "        find_calls(value)\n",
    "        \n",
    "        targets = n.targets  # a list of targets\n",
    "        for target in targets:\n",
    "            find_calls(target)\n",
    "    \n",
    "    elif isinstance(n, ast.Return):\n",
    "        # returns have values\n",
    "        print(\"ast.return\", n)\n",
    "        value = n.value\n",
    "        find_calls(value)\n",
    "        \n",
    "    elif isinstance(n, ast.BinOp):\n",
    "        # all binops have left and right\n",
    "        print(\"ast.binop\", n)\n",
    "        left = n.left\n",
    "        right = n.right\n",
    "        find_calls(left)\n",
    "        find_calls(right)\n",
    "        \n",
    "    elif isinstance(n, ast.Name):\n",
    "        print(\"ast.name\", n.id)\n",
    "\n",
    "    elif isinstance(n, ast.Attribute):\n",
    "        print(\"ast.attribute\", n.attr)\n",
    "        # all attributes have a value\n",
    "        value = n.value\n",
    "        find_calls(value)\n",
    "    \n",
    "    elif isinstance(n, ast.Num):\n",
    "        # all nums have a n\n",
    "        print(\"ast.num\", n.n)\n",
    "    \n",
    "    else:\n",
    "        print(\">>> hello\", n.__class__)"
   ]
  },
  {
   "cell_type": "code",
   "execution_count": 21,
   "metadata": {},
   "outputs": [
    {
     "name": "stdout",
     "output_type": "stream",
     "text": [
      "ast.assign <_ast.Assign object at 0x10f194d90>\n",
      "ast.num 0\n",
      "ast.name z\n",
      "ast.assign <_ast.Assign object at 0x10f194e50>\n",
      "ast.call <_ast.Call object at 0x10f194ed0>\n",
      "ast.attribute normal\n",
      "ast.attribute random\n",
      "ast.name np\n",
      "ast.name x\n",
      "ast.return <_ast.Return object at 0x10f194fd0>\n",
      "ast.binop <_ast.BinOp object at 0x10f19e050>\n",
      "ast.binop <_ast.BinOp object at 0x10f19e090>\n",
      "ast.call <_ast.Call object at 0x10f19e0d0>\n",
      "ast.name c\n",
      "ast.call <_ast.Call object at 0x10f19e150>\n",
      "ast.name b\n",
      "ast.name x\n"
     ]
    }
   ],
   "source": [
    "find_calls(tree.body[2])"
   ]
  },
  {
   "cell_type": "code",
   "execution_count": 22,
   "metadata": {},
   "outputs": [],
   "source": [
    "def is_defined(target):\n",
    "    \"\"\"determine if target is a user defined method.\n",
    "    \"\"\"\n",
    "    for idx, node in enumerate(tree.body):\n",
    "        if isinstance(node, ast.FunctionDef) and (node.name == target):\n",
    "            return True\n",
    "    return False"
   ]
  },
  {
   "cell_type": "code",
   "execution_count": 20,
   "metadata": {},
   "outputs": [
    {
     "data": {
      "text/plain": [
       "False"
      ]
     },
     "execution_count": 20,
     "metadata": {},
     "output_type": "execute_result"
    }
   ],
   "source": [
    "is_defined(\"x\")"
   ]
  },
  {
   "cell_type": "code",
   "execution_count": 25,
   "metadata": {},
   "outputs": [
    {
     "data": {
      "text/plain": [
       "['__class__',\n",
       " '__delattr__',\n",
       " '__dict__',\n",
       " '__dir__',\n",
       " '__doc__',\n",
       " '__eq__',\n",
       " '__format__',\n",
       " '__ge__',\n",
       " '__getattribute__',\n",
       " '__gt__',\n",
       " '__hash__',\n",
       " '__init__',\n",
       " '__init_subclass__',\n",
       " '__le__',\n",
       " '__lt__',\n",
       " '__module__',\n",
       " '__ne__',\n",
       " '__new__',\n",
       " '__reduce__',\n",
       " '__reduce_ex__',\n",
       " '__repr__',\n",
       " '__setattr__',\n",
       " '__sizeof__',\n",
       " '__str__',\n",
       " '__subclasshook__',\n",
       " '__weakref__',\n",
       " '_attributes',\n",
       " '_fields',\n",
       " 'args',\n",
       " 'body',\n",
       " 'col_offset',\n",
       " 'decorator_list',\n",
       " 'lineno',\n",
       " 'name',\n",
       " 'returns']"
      ]
     },
     "execution_count": 25,
     "metadata": {},
     "output_type": "execute_result"
    }
   ],
   "source": [
    "dir(tree.body[2])"
   ]
  },
  {
   "cell_type": "code",
   "execution_count": 26,
   "metadata": {},
   "outputs": [
    {
     "data": {
      "text/plain": [
       "('name', 'args', 'body', 'decorator_list', 'returns')"
      ]
     },
     "execution_count": 26,
     "metadata": {},
     "output_type": "execute_result"
    }
   ],
   "source": [
    "tree.body[2]._fields\n"
   ]
  },
  {
   "cell_type": "code",
   "execution_count": null,
   "metadata": {},
   "outputs": [],
   "source": []
  }
 ],
 "metadata": {
  "kernelspec": {
   "display_name": "Python 3",
   "language": "python",
   "name": "python3"
  },
  "language_info": {
   "codemirror_mode": {
    "name": "ipython",
    "version": 3
   },
   "file_extension": ".py",
   "mimetype": "text/x-python",
   "name": "python",
   "nbconvert_exporter": "python",
   "pygments_lexer": "ipython3",
   "version": "3.7.6"
  }
 },
 "nbformat": 4,
 "nbformat_minor": 2
}
