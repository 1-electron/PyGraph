{
 "cells": [
  {
   "cell_type": "markdown",
   "metadata": {},
   "source": [
    "# [example](https://suhas.org/function-call-ast-python/)"
   ]
  },
  {
   "cell_type": "markdown",
   "metadata": {},
   "source": [
    "* https://stackoverflow.com/questions/1515357/simple-example-of-how-to-use-ast-nodevisitor\n",
    "* https://suhas.org/function-call-ast-python/\n",
    "* https://docs.python.org/3/library/ast.html#ast.NodeVisitor"
   ]
  },
  {
   "cell_type": "code",
   "execution_count": 1,
   "metadata": {},
   "outputs": [],
   "source": [
    "import ast\n",
    "import astor  # https://stackoverflow.com/questions/36022935/rewriting-code-with-ast-python\n",
    "# Python itself doesn’t provide a way to turn a compiled code object into an AST, or an AST into a string of code. https://greentreesnakes.readthedocs.io/en/latest/tofrom.html\n",
    "\n",
    "class FunctionCallVisitor(ast.NodeVisitor):\n",
    "    \"\"\"\n",
    "    we will use this to find all callables (\"Call\" nodes in an ast). then, once we\n",
    "    are on a Call node, we print its information. a Call node could be defined by \n",
    "    FunctionDef but also ImportFrom.\n",
    "    \n",
    "    if we wanted to visit other types of nodes in the ast, we would replace visit_Call\n",
    "    with visit_Assign, visit_Import, etc...\n",
    "    \n",
    "    https://stackoverflow.com/questions/1515357/simple-example-of-how-to-use-ast-nodevisitor\n",
    "    \"\"\"\n",
    "    def visit_Call(self, node):\n",
    "        # print(ast.dump(node))\n",
    "        print(node.func.id)\n",
    "        \n",
    "# # using FunctionCallVisitor, we can find its subroutines... which is func A... \n",
    "# lets fetch the subroutines name, we cant return values so we capture stdout\n",
    "# https://stackoverflow.com/questions/16571150/how-to-capture-stdout-output-from-a-python-function-call\n",
    "import io\n",
    "from contextlib import redirect_stdout\n",
    "\n",
    "def find_callables(curr):\n",
    "    \"\"\"for a given node, find its callables.\n",
    "    \"\"\"\n",
    "    f = io.StringIO()\n",
    "    with redirect_stdout(f):\n",
    "        FunctionCallVisitor().visit(curr)\n",
    "    out = f.getvalue()\n",
    "    return out.split()\n",
    "\n",
    "\n",
    "# return the index of tree.body that corresponds to the name\n",
    "def name2idx(target):\n",
    "    \"\"\"\n",
    "    returns the index, an int, of the tree body that corresponds\n",
    "    to the target, a string.\n",
    "    \"\"\"\n",
    "    for i, node in enumerate(tree.body):        \n",
    "        # we only want funcdef statements\n",
    "        if isinstance(node, ast.FunctionDef):\n",
    "            if node.name == target:\n",
    "                idx = i\n",
    "                return idx\n",
    "    return False"
   ]
  },
  {
   "cell_type": "code",
   "execution_count": 2,
   "metadata": {},
   "outputs": [],
   "source": [
    "# load source into memory\n",
    "with open('hello.py') as f: \n",
    "    source = f.read()"
   ]
  },
  {
   "cell_type": "code",
   "execution_count": 3,
   "metadata": {
    "scrolled": true
   },
   "outputs": [
    {
     "data": {
      "text/plain": [
       "[<_ast.Import at 0x1105a3c88>,\n",
       " <_ast.FunctionDef at 0x1105a3c50>,\n",
       " <_ast.FunctionDef at 0x1105a3f60>,\n",
       " <_ast.FunctionDef at 0x1105d00f0>,\n",
       " <_ast.FunctionDef at 0x1105d0198>,\n",
       " <_ast.Assign at 0x1105d02e8>]"
      ]
     },
     "execution_count": 3,
     "metadata": {},
     "output_type": "execute_result"
    }
   ],
   "source": [
    "# convert source code into ast, which is a tree\n",
    "tree = ast.parse(source)\n",
    "tree.body"
   ]
  },
  {
   "cell_type": "code",
   "execution_count": 4,
   "metadata": {
    "scrolled": true
   },
   "outputs": [
    {
     "name": "stdout",
     "output_type": "stream",
     "text": [
      "Import(names=[alias(name='ast', asname=None)]) \n",
      "\n",
      "FunctionDef(name='a', args=arguments(args=[], vararg=None, kwonlyargs=[], kw_defaults=[], kwarg=None, defaults=[]), body=[Assign(targets=[Name(id='x', ctx=Store())], value=Num(n=2)), Return(value=BinOp(left=BinOp(left=Call(func=Name(id='c', ctx=Load()), args=[], keywords=[]), op=Add(), right=Call(func=Name(id='b', ctx=Load()), args=[], keywords=[])), op=Add(), right=Name(id='x', ctx=Load())))], decorator_list=[], returns=None) \n",
      "\n",
      "FunctionDef(name='b', args=arguments(args=[], vararg=None, kwonlyargs=[], kw_defaults=[], kwarg=None, defaults=[]), body=[Return(value=BinOp(left=Num(n=2), op=Add(), right=Call(func=Name(id='c', ctx=Load()), args=[], keywords=[])))], decorator_list=[], returns=None) \n",
      "\n",
      "FunctionDef(name='c', args=arguments(args=[], vararg=None, kwonlyargs=[], kw_defaults=[], kwarg=None, defaults=[]), body=[Return(value=Num(n=3))], decorator_list=[], returns=None) \n",
      "\n",
      "FunctionDef(name='d', args=arguments(args=[], vararg=None, kwonlyargs=[], kw_defaults=[], kwarg=None, defaults=[]), body=[Return(value=Num(n=4))], decorator_list=[], returns=None) \n",
      "\n",
      "Assign(targets=[Name(id='y', ctx=Store())], value=Call(func=Name(id='a', ctx=Load()), args=[], keywords=[])) \n",
      "\n"
     ]
    }
   ],
   "source": [
    "# this is a flattened view of the ast - this is only for illustrative purposes and we wont use this\n",
    "for statement in tree.body:\n",
    "    print(ast.dump(statement), '\\n')"
   ]
  },
  {
   "cell_type": "code",
   "execution_count": 5,
   "metadata": {},
   "outputs": [
    {
     "name": "stdout",
     "output_type": "stream",
     "text": [
      "c\n",
      "b\n",
      "c\n",
      "a\n"
     ]
    }
   ],
   "source": [
    "\"\"\"\n",
    "we cant build subset using this approach because what we really care about is building a call graph from\n",
    "the assign method\n",
    "\"\"\"\n",
    "# only functions that are actuall called are converted into ast\n",
    "# func C is called twice and therefore shows up twice in the ast\n",
    "FunctionCallVisitor().visit(tree)"
   ]
  },
  {
   "cell_type": "code",
   "execution_count": 7,
   "metadata": {},
   "outputs": [
    {
     "name": "stdout",
     "output_type": "stream",
     "text": [
      ">> at index 5 : \n",
      " Assign(targets=[Name(id='y', ctx=Store())], value=Call(func=Name(id='a', ctx=Load()), args=[], keywords=[]))\n"
     ]
    }
   ],
   "source": [
    "\"\"\"\n",
    "lets find an assign statement since assign statements kick off execution.\n",
    "\n",
    "there are other ast types such as ast.Assign, ast.FunctionDef, ast.Import...\n",
    "\"\"\"\n",
    "for i, statement in enumerate(tree.body):\n",
    "    if isinstance(statement, ast.Assign):  # https://stackoverflow.com/questions/37217823/how-to-find-detect-if-a-build-in-function-is-used-in-python-ast\n",
    "        print(\">> at index\", i, \": \\n\", ast.dump(statement))\n",
    "        idx = i"
   ]
  },
  {
   "cell_type": "code",
   "execution_count": 8,
   "metadata": {},
   "outputs": [
    {
     "data": {
      "text/plain": [
       "\"Assign(targets=[Name(id='y', ctx=Store())], value=Call(func=Name(id='a', ctx=Load()), args=[], keywords=[]))\""
      ]
     },
     "execution_count": 8,
     "metadata": {},
     "output_type": "execute_result"
    }
   ],
   "source": [
    "# now that we have the correct idx, we can grab the node corresponding to the assign statement\n",
    "curr = tree.body[idx]  \n",
    "ast.dump(curr)"
   ]
  },
  {
   "cell_type": "code",
   "execution_count": 9,
   "metadata": {},
   "outputs": [
    {
     "name": "stdout",
     "output_type": "stream",
     "text": [
      "['a']\n"
     ]
    }
   ],
   "source": [
    "# find the functions that the assign statement calls\n",
    "callable_name = find_callables(curr)\n",
    "print(callable_name)"
   ]
  },
  {
   "cell_type": "code",
   "execution_count": 13,
   "metadata": {},
   "outputs": [
    {
     "name": "stdout",
     "output_type": "stream",
     "text": [
      ">> copying code for a ... \n",
      "def a():\n",
      "    x = 2\n",
      "    return c() + b() + x\n",
      "\n",
      ">> copying code for b ... \n",
      "def b():\n",
      "    return 2 + c()\n",
      "\n",
      ">> copying code for c ... \n",
      "def c():\n",
      "    return 3\n",
      "\n"
     ]
    }
   ],
   "source": [
    "fetch(\"a\", tree)"
   ]
  },
  {
   "cell_type": "code",
   "execution_count": 12,
   "metadata": {},
   "outputs": [],
   "source": [
    "def fetch(starting_node_name, tree):\n",
    "    \"\"\"\n",
    "    starting_node_name should be the name of the callable in the assign statement.\n",
    "    it is a str, eg \"a\"\n",
    "    \"\"\"\n",
    "    stack = [starting_node_name]\n",
    "    seen = []\n",
    "    while len(stack) > 0:\n",
    "        name = stack.pop()\n",
    "        print(\">> copying code for\", name, \"... \")\n",
    "\n",
    "        # put the name in seen stack so we dont double count\n",
    "        seen.append(name)  \n",
    "\n",
    "        # find a's index number\n",
    "        idx = name2idx(name)  \n",
    "\n",
    "        # from index, retrieve correspoding node from the main tree and use it as curr\n",
    "        curr = tree.body[idx]  \n",
    "\n",
    "        # copy its source code\n",
    "        print(astor.to_source(curr))  \n",
    "\n",
    "        # find all callables for curr\n",
    "        callable_name = find_callables(curr)  \n",
    "\n",
    "        # and add it to the stack if we havent seen it yet\n",
    "        for cn in callable_name:\n",
    "            if (cn not in seen) and (cn not in stack):\n",
    "                stack.append(cn)"
   ]
  },
  {
   "cell_type": "code",
   "execution_count": null,
   "metadata": {},
   "outputs": [],
   "source": []
  }
 ],
 "metadata": {
  "kernelspec": {
   "display_name": "Python 3",
   "language": "python",
   "name": "python3"
  },
  "language_info": {
   "codemirror_mode": {
    "name": "ipython",
    "version": 3
   },
   "file_extension": ".py",
   "mimetype": "text/x-python",
   "name": "python",
   "nbconvert_exporter": "python",
   "pygments_lexer": "ipython3",
   "version": "3.6.8"
  }
 },
 "nbformat": 4,
 "nbformat_minor": 2
}
