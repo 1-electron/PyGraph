{
 "cells": [
  {
   "cell_type": "markdown",
   "metadata": {},
   "source": [
    "# [example](https://suhas.org/function-call-ast-python/)"
   ]
  },
  {
   "cell_type": "markdown",
   "metadata": {},
   "source": [
    "* https://stackoverflow.com/questions/1515357/simple-example-of-how-to-use-ast-nodevisitor\n",
    "* https://suhas.org/function-call-ast-python/\n",
    "* https://docs.python.org/3/library/ast.html#ast.NodeVisitor"
   ]
  },
  {
   "cell_type": "code",
   "execution_count": 33,
   "metadata": {},
   "outputs": [],
   "source": [
    "import ast\n",
    "import astor  # https://stackoverflow.com/questions/36022935/rewriting-code-with-ast-python\n",
    "# Python itself doesn’t provide a way to turn a compiled code object into an AST, or an AST into a string of code. https://greentreesnakes.readthedocs.io/en/latest/tofrom.html\n",
    "\n",
    "class FunctionCallVisitor(ast.NodeVisitor):\n",
    "    \"\"\"\n",
    "    we will use this to find all callables (\"Call\" nodes in an ast). then, once we\n",
    "    are on a Call node, we print its information. a Call node could be defined by \n",
    "    FunctionDef but also ImportFrom.\n",
    "    \n",
    "    if we wanted to visit other types of nodes in the ast, we would replace visit_Call\n",
    "    with visit_Assign, visit_Import, etc...\n",
    "    \n",
    "    https://stackoverflow.com/questions/1515357/simple-example-of-how-to-use-ast-nodevisitor\n",
    "    \"\"\"\n",
    "    def visit_Call(self, node):\n",
    "        # print(ast.dump(node))\n",
    "        print(node.func.id)"
   ]
  },
  {
   "cell_type": "code",
   "execution_count": 34,
   "metadata": {},
   "outputs": [],
   "source": [
    "# load source into memory\n",
    "with open('hello.py') as f: \n",
    "    source = f.read()"
   ]
  },
  {
   "cell_type": "code",
   "execution_count": 35,
   "metadata": {
    "scrolled": true
   },
   "outputs": [
    {
     "data": {
      "text/plain": [
       "[<_ast.Import at 0x10f018cc0>,\n",
       " <_ast.ImportFrom at 0x10f018c18>,\n",
       " <_ast.FunctionDef at 0x10f018048>,\n",
       " <_ast.FunctionDef at 0x10f018390>,\n",
       " <_ast.FunctionDef at 0x10f036320>,\n",
       " <_ast.Assign at 0x10f036438>]"
      ]
     },
     "execution_count": 35,
     "metadata": {},
     "output_type": "execute_result"
    }
   ],
   "source": [
    "# convert source code into ast representation\n",
    "tree = ast.parse(source)\n",
    "tree.body"
   ]
  },
  {
   "cell_type": "code",
   "execution_count": 36,
   "metadata": {
    "scrolled": true
   },
   "outputs": [
    {
     "name": "stdout",
     "output_type": "stream",
     "text": [
      "Import(names=[alias(name='ast', asname=None)]) \n",
      "\n",
      "ImportFrom(module='hello2', names=[alias(name='c', asname=None)], level=0) \n",
      "\n",
      "FunctionDef(name='a', args=arguments(args=[], vararg=None, kwonlyargs=[], kw_defaults=[], kwarg=None, defaults=[]), body=[Assign(targets=[Name(id='x', ctx=Store())], value=Num(n=2)), Return(value=BinOp(left=BinOp(left=Call(func=Name(id='c', ctx=Load()), args=[], keywords=[]), op=Add(), right=Call(func=Name(id='b', ctx=Load()), args=[], keywords=[])), op=Add(), right=Name(id='x', ctx=Load())))], decorator_list=[], returns=None) \n",
      "\n",
      "FunctionDef(name='b', args=arguments(args=[], vararg=None, kwonlyargs=[], kw_defaults=[], kwarg=None, defaults=[]), body=[Return(value=BinOp(left=Num(n=2), op=Add(), right=Call(func=Name(id='c', ctx=Load()), args=[], keywords=[])))], decorator_list=[], returns=None) \n",
      "\n",
      "FunctionDef(name='d', args=arguments(args=[], vararg=None, kwonlyargs=[], kw_defaults=[], kwarg=None, defaults=[]), body=[Return(value=Num(n=4))], decorator_list=[], returns=None) \n",
      "\n",
      "Assign(targets=[Name(id='y', ctx=Store())], value=Num(n=2)) \n",
      "\n"
     ]
    }
   ],
   "source": [
    "# this is the complete ast body - this is only for illustrative purposes and we wont use this\n",
    "for statement in tree.body:\n",
    "    print(ast.dump(statement), '\\n')"
   ]
  },
  {
   "cell_type": "code",
   "execution_count": 37,
   "metadata": {},
   "outputs": [
    {
     "name": "stdout",
     "output_type": "stream",
     "text": [
      "c\n",
      "b\n",
      "c\n"
     ]
    }
   ],
   "source": [
    "\n",
    "# only functions that are actuall called are converted into ast\n",
    "# func C is called twice and therefore shows up twice in the ast\n",
    "FunctionCallVisitor().visit(tree)"
   ]
  },
  {
   "cell_type": "code",
   "execution_count": 38,
   "metadata": {},
   "outputs": [
    {
     "name": "stdout",
     "output_type": "stream",
     "text": [
      ">> found a\n",
      ">> found b\n",
      ">> found d\n"
     ]
    }
   ],
   "source": [
    "# then, collect its source code\n",
    "\n",
    "for i, node in enumerate(tree.body):\n",
    "    if isinstance(node, ast.FunctionDef):\n",
    "        if node.name in [\"a\", 'b', 'c', 'd']:\n",
    "            print(\">> found\", node.name)"
   ]
  },
  {
   "cell_type": "code",
   "execution_count": null,
   "metadata": {},
   "outputs": [],
   "source": []
  },
  {
   "cell_type": "code",
   "execution_count": null,
   "metadata": {},
   "outputs": [],
   "source": []
  },
  {
   "cell_type": "code",
   "execution_count": null,
   "metadata": {},
   "outputs": [],
   "source": []
  },
  {
   "cell_type": "code",
   "execution_count": 9,
   "metadata": {},
   "outputs": [
    {
     "name": "stdout",
     "output_type": "stream",
     "text": [
      ">> at index 0 : \n",
      " Import(names=[alias(name='ast', asname=None)])\n"
     ]
    }
   ],
   "source": [
    "\"\"\"\n",
    "first, let find all of the imports\n",
    "\"\"\"\n",
    "for i, statement in enumerate(tree.body):\n",
    "    if isinstance(statement, ast.Import):  # https://stackoverflow.com/questions/37217823/how-to-find-detect-if-a-build-in-function-is-used-in-python-ast\n",
    "        print(\">> at index\", i, \": \\n\", ast.dump(statement))"
   ]
  },
  {
   "cell_type": "code",
   "execution_count": 10,
   "metadata": {},
   "outputs": [
    {
     "name": "stdout",
     "output_type": "stream",
     "text": [
      ">> at index 5 : \n",
      " Assign(targets=[Name(id='y', ctx=Store())], value=Call(func=Name(id='a', ctx=Load()), args=[], keywords=[]))\n"
     ]
    }
   ],
   "source": [
    "\"\"\"\n",
    "lets find an assign statement for execution.\n",
    "\n",
    "there are many ast node types such as ast.Assign, ast.FunctionDef, ast.import...\n",
    "\"\"\"\n",
    "for i, statement in enumerate(tree.body):\n",
    "    if isinstance(statement, ast.Assign):  # https://stackoverflow.com/questions/37217823/how-to-find-detect-if-a-build-in-function-is-used-in-python-ast\n",
    "        print(\">> at index\", i, \": \\n\", ast.dump(statement))\n",
    "        idx = i"
   ]
  },
  {
   "cell_type": "code",
   "execution_count": 11,
   "metadata": {},
   "outputs": [
    {
     "data": {
      "text/plain": [
       "\"Assign(targets=[Name(id='y', ctx=Store())], value=Call(func=Name(id='a', ctx=Load()), args=[], keywords=[]))\""
      ]
     },
     "execution_count": 11,
     "metadata": {},
     "output_type": "execute_result"
    }
   ],
   "source": [
    "# we want to execute y = a() which we can subset from main node\n",
    "curr = tree.body[idx]\n",
    "ast.dump(curr)"
   ]
  },
  {
   "cell_type": "code",
   "execution_count": 12,
   "metadata": {},
   "outputs": [],
   "source": [
    "\"\"\"\n",
    "NodeTransformers can return nodes but NodeVisitors cant\n",
    "\n",
    "NodeTransformers are destructive.\n",
    "\n",
    "\"The NodeTransformer will walk the AST and use the return value of the visitor methods to replace or remove the old node. If the return value of the visitor method is None, the node will be removed from its location, otherwise it is replaced with the return value. The return value may be the original node in which case no replacement takes place.\"\n",
    "\"\"\"\n",
    "\n",
    "class Return_Call_Nodes(ast.NodeVisitor):  \n",
    "    def visit_Call(self, node):\n",
    "        # print(ast.dump(node))\n",
    "        print(node.func.id)"
   ]
  },
  {
   "cell_type": "code",
   "execution_count": 13,
   "metadata": {},
   "outputs": [
    {
     "data": {
      "text/plain": [
       "'a'"
      ]
     },
     "execution_count": 13,
     "metadata": {},
     "output_type": "execute_result"
    }
   ],
   "source": [
    "# # using FunctionCallVisitor, we can find its subroutines... which is func A... \n",
    "# lets fetch the subroutines name, we cant return values so we capture stdout\n",
    "# https://stackoverflow.com/questions/16571150/how-to-capture-stdout-output-from-a-python-function-call\n",
    "import io\n",
    "from contextlib import redirect_stdout\n",
    "\n",
    "f = io.StringIO()\n",
    "with redirect_stdout(f):\n",
    "    Return_Call_Nodes().visit(curr)\n",
    "out = f.getvalue()\n",
    "out.split()[0]"
   ]
  },
  {
   "cell_type": "code",
   "execution_count": 14,
   "metadata": {},
   "outputs": [],
   "source": [
    "# return the index of tree.body that corresponds to the name\n",
    "def find_idx(target):\n",
    "    for i, node in enumerate(tree.body):\n",
    "        # we only want funcdef statements\n",
    "        if isinstance(node, ast.FunctionDef):\n",
    "            if node.name == target:\n",
    "                idx = i\n",
    "                # we'll grab func A's source code and save it in the dictionary\n",
    "                print(\">> found\", node.name)\n",
    "                print(astor.to_source(tree.body[idx]))\n",
    "    return idx"
   ]
  },
  {
   "cell_type": "code",
   "execution_count": 15,
   "metadata": {},
   "outputs": [
    {
     "name": "stdout",
     "output_type": "stream",
     "text": [
      ">> found a\n",
      "def a():\n",
      "    x = 2\n",
      "    return c() + b() + x\n",
      "\n"
     ]
    },
    {
     "data": {
      "text/plain": [
       "2"
      ]
     },
     "execution_count": 15,
     "metadata": {},
     "output_type": "execute_result"
    }
   ],
   "source": [
    "idx = find_idx(out.split()[0])\n",
    "idx"
   ]
  },
  {
   "cell_type": "code",
   "execution_count": 410,
   "metadata": {},
   "outputs": [],
   "source": [
    "# and then find func a's subroutines\n",
    "curr = tree.body[idx]"
   ]
  },
  {
   "cell_type": "code",
   "execution_count": 411,
   "metadata": {},
   "outputs": [
    {
     "data": {
      "text/plain": [
       "['c', 'b']"
      ]
     },
     "execution_count": 411,
     "metadata": {},
     "output_type": "execute_result"
    }
   ],
   "source": [
    "# we want to find curr's subroutines\n",
    "\n",
    "f = io.StringIO()\n",
    "with redirect_stdout(f):\n",
    "    Return_Call_Nodes().visit(curr)\n",
    "out = f.getvalue()\n",
    "out.split()"
   ]
  },
  {
   "cell_type": "code",
   "execution_count": 412,
   "metadata": {},
   "outputs": [
    {
     "name": "stdout",
     "output_type": "stream",
     "text": [
      ">> found c\n",
      "def c():\n",
      "    return 3\n",
      "\n",
      "3\n",
      ">> found b\n",
      "def b():\n",
      "    return 2 + c()\n",
      "\n",
      "2\n"
     ]
    }
   ],
   "source": [
    "for target in out.split():\n",
    "    idx = find_idx(target)\n",
    "    print(idx)"
   ]
  },
  {
   "cell_type": "code",
   "execution_count": null,
   "metadata": {},
   "outputs": [],
   "source": []
  },
  {
   "cell_type": "code",
   "execution_count": null,
   "metadata": {},
   "outputs": [],
   "source": []
  },
  {
   "cell_type": "code",
   "execution_count": null,
   "metadata": {},
   "outputs": [],
   "source": []
  },
  {
   "cell_type": "code",
   "execution_count": null,
   "metadata": {},
   "outputs": [],
   "source": []
  },
  {
   "cell_type": "code",
   "execution_count": null,
   "metadata": {},
   "outputs": [],
   "source": []
  },
  {
   "cell_type": "code",
   "execution_count": null,
   "metadata": {},
   "outputs": [],
   "source": []
  },
  {
   "cell_type": "code",
   "execution_count": null,
   "metadata": {},
   "outputs": [],
   "source": []
  },
  {
   "cell_type": "code",
   "execution_count": null,
   "metadata": {},
   "outputs": [],
   "source": []
  },
  {
   "cell_type": "code",
   "execution_count": 133,
   "metadata": {},
   "outputs": [
    {
     "data": {
      "text/plain": [
       "<_ast.Module at 0x1075fc278>"
      ]
     },
     "execution_count": 133,
     "metadata": {},
     "output_type": "execute_result"
    }
   ],
   "source": [
    "# https://stackoverflow.com/questions/37217823/how-to-find-detect-if-a-build-in-function-is-used-in-python-ast\n",
    "\n",
    "def foo():\n",
    "    print('hello')\n",
    "\n",
    "ast.parse(inspect.getsource(foo))"
   ]
  },
  {
   "cell_type": "code",
   "execution_count": 79,
   "metadata": {},
   "outputs": [],
   "source": [
    "# generate a list of names of functions that will be called\n",
    "\n",
    "from collections import deque\n",
    "\n",
    "class FuncCallVisitor(ast.NodeVisitor):\n",
    "    def __init__(self):\n",
    "        self._name = deque()\n",
    "\n",
    "    @property\n",
    "    def name(self):\n",
    "        return '.'.join(self._name)\n",
    "\n",
    "    @name.deleter\n",
    "    def name(self):\n",
    "        self._name.clear()\n",
    "\n",
    "    def visit_Name(self, node):\n",
    "        self._name.appendleft(node.id)\n",
    "\n",
    "    def visit_Attribute(self, node):\n",
    "        try:\n",
    "            self._name.appendleft(node.attr)\n",
    "            self._name.appendleft(node.value.id)\n",
    "        except AttributeError:\n",
    "            self.generic_visit(node)\n",
    "\n",
    "\n",
    "def get_func_calls(tree):\n",
    "    func_calls = []\n",
    "    for node in ast.walk(tree):\n",
    "        if isinstance(node, ast.Call):\n",
    "            callvisitor = FuncCallVisitor()\n",
    "            callvisitor.visit(node.func)\n",
    "            func_calls.append(callvisitor.name)\n",
    "\n",
    "    return func_calls"
   ]
  },
  {
   "cell_type": "code",
   "execution_count": 80,
   "metadata": {},
   "outputs": [
    {
     "data": {
      "text/plain": [
       "['a', 'c', 'c', 'b']"
      ]
     },
     "execution_count": 80,
     "metadata": {},
     "output_type": "execute_result"
    }
   ],
   "source": [
    "get_func_calls(tree)"
   ]
  },
  {
   "cell_type": "code",
   "execution_count": null,
   "metadata": {},
   "outputs": [],
   "source": []
  }
 ],
 "metadata": {
  "kernelspec": {
   "display_name": "Python 3",
   "language": "python",
   "name": "python3"
  },
  "language_info": {
   "codemirror_mode": {
    "name": "ipython",
    "version": 3
   },
   "file_extension": ".py",
   "mimetype": "text/x-python",
   "name": "python",
   "nbconvert_exporter": "python",
   "pygments_lexer": "ipython3",
   "version": "3.6.8"
  }
 },
 "nbformat": 4,
 "nbformat_minor": 2
}
